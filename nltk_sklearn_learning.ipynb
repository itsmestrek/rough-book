{
 "cells": [
  {
   "cell_type": "markdown",
   "metadata": {},
   "source": [
    "# BOW \n",
    "\n",
    "## Ngrams"
   ]
  },
  {
   "cell_type": "code",
   "execution_count": 17,
   "metadata": {},
   "outputs": [
    {
     "name": "stdout",
     "output_type": "stream",
     "text": [
      "Defaulting to user installation because normal site-packages is not writeable\n",
      "Requirement already satisfied: nltk in /Users/saptarshimandal/Library/Python/3.9/lib/python/site-packages (3.9.1)\n",
      "Requirement already satisfied: click in /Users/saptarshimandal/Library/Python/3.9/lib/python/site-packages (from nltk) (8.1.8)\n",
      "Requirement already satisfied: joblib in /Users/saptarshimandal/Library/Python/3.9/lib/python/site-packages (from nltk) (1.4.2)\n",
      "Requirement already satisfied: regex>=2021.8.3 in /Users/saptarshimandal/Library/Python/3.9/lib/python/site-packages (from nltk) (2024.11.6)\n",
      "Requirement already satisfied: tqdm in /Users/saptarshimandal/Library/Python/3.9/lib/python/site-packages (from nltk) (4.67.1)\n"
     ]
    }
   ],
   "source": [
    "!pip install nltk"
   ]
  },
  {
   "cell_type": "code",
   "execution_count": 18,
   "metadata": {},
   "outputs": [],
   "source": [
    "paragraph=\"\"\"Diwali, also known as ‘Deepavali’ (a row of lamps), is one of the most fervently celebrated festivals of India. Diwali is often called the ‘Festival of Lights’, and is celebrated by lighting lamps, and bursting crackers and fireworks. It is a festival which commemorates the victorious return of Lord Rama to Ayodhya after saving his wife Sita from the demon king Ravana. This religious festival represents the triumph of good over evil and light over darkness.\n",
    "People all over India celebrate Diwali by lighting earthen oil lamps and decorating their houses with lights of different colours and sizes. All these lights transform streets across India into a mesmerising sight to behold. Kids celebrate the occasion by bursting crackers and different fireworks like sparklers, rockets, flower pots, fountains, peony fireworks, etc.\n",
    "Diwali falls on the 20th day after the festival of Dussehra, usually in October or November every year. Families and friends visit each other, exchange gifts, and share delicious food to celebrate the occasion. Goddess Lakshmi, the goddess of wealth, is also worshipped on the occasion.\n",
    "In recent years, the use of crackers and fireworks has come down dramatically as it contributes to air pollution and noise pollution, especially in cities where you hear a cracker bursting every other second. There are also safety issues concerning the use of fireworks, especially by children. So let us celebrate this festival of lights with more care and responsibility.\"\"\""
   ]
  },
  {
   "cell_type": "code",
   "execution_count": 19,
   "metadata": {},
   "outputs": [
    {
     "data": {
      "text/plain": [
       "'Diwali, also known as ‘Deepavali’ (a row of lamps), is one of the most fervently celebrated festivals of India. Diwali is often called the ‘Festival of Lights’, and is celebrated by lighting lamps, and bursting crackers and fireworks. It is a festival which commemorates the victorious return of Lord Rama to Ayodhya after saving his wife Sita from the demon king Ravana. This religious festival represents the triumph of good over evil and light over darkness.\\nPeople all over India celebrate Diwali by lighting earthen oil lamps and decorating their houses with lights of different colours and sizes. All these lights transform streets across India into a mesmerising sight to behold. Kids celebrate the occasion by bursting crackers and different fireworks like sparklers, rockets, flower pots, fountains, peony fireworks, etc.\\nDiwali falls on the 20th day after the festival of Dussehra, usually in October or November every year. Families and friends visit each other, exchange gifts, and share delicious food to celebrate the occasion. Goddess Lakshmi, the goddess of wealth, is also worshipped on the occasion.\\nIn recent years, the use of crackers and fireworks has come down dramatically as it contributes to air pollution and noise pollution, especially in cities where you hear a cracker bursting every other second. There are also safety issues concerning the use of fireworks, especially by children. So let us celebrate this festival of lights with more care and responsibility.'"
      ]
     },
     "execution_count": 19,
     "metadata": {},
     "output_type": "execute_result"
    }
   ],
   "source": [
    "paragraph"
   ]
  },
  {
   "cell_type": "code",
   "execution_count": 20,
   "metadata": {},
   "outputs": [],
   "source": [
    "import nltk\n",
    "from nltk.stem import PorterStemmer\n",
    "from nltk.corpus import stopwords"
   ]
  },
  {
   "cell_type": "code",
   "execution_count": 21,
   "metadata": {},
   "outputs": [
    {
     "name": "stderr",
     "output_type": "stream",
     "text": [
      "[nltk_data] Downloading package punkt to\n",
      "[nltk_data]     /Users/saptarshimandal/nltk_data...\n",
      "[nltk_data]   Unzipping tokenizers/punkt.zip.\n"
     ]
    },
    {
     "data": {
      "text/plain": [
       "['Diwali, also known as ‘Deepavali’ (a row of lamps), is one of the most fervently celebrated festivals of India.',\n",
       " 'Diwali is often called the ‘Festival of Lights’, and is celebrated by lighting lamps, and bursting crackers and fireworks.',\n",
       " 'It is a festival which commemorates the victorious return of Lord Rama to Ayodhya after saving his wife Sita from the demon king Ravana.',\n",
       " 'This religious festival represents the triumph of good over evil and light over darkness.',\n",
       " 'People all over India celebrate Diwali by lighting earthen oil lamps and decorating their houses with lights of different colours and sizes.',\n",
       " 'All these lights transform streets across India into a mesmerising sight to behold.',\n",
       " 'Kids celebrate the occasion by bursting crackers and different fireworks like sparklers, rockets, flower pots, fountains, peony fireworks, etc.',\n",
       " 'Diwali falls on the 20th day after the festival of Dussehra, usually in October or November every year.',\n",
       " 'Families and friends visit each other, exchange gifts, and share delicious food to celebrate the occasion.',\n",
       " 'Goddess Lakshmi, the goddess of wealth, is also worshipped on the occasion.',\n",
       " 'In recent years, the use of crackers and fireworks has come down dramatically as it contributes to air pollution and noise pollution, especially in cities where you hear a cracker bursting every other second.',\n",
       " 'There are also safety issues concerning the use of fireworks, especially by children.',\n",
       " 'So let us celebrate this festival of lights with more care and responsibility.']"
      ]
     },
     "execution_count": 21,
     "metadata": {},
     "output_type": "execute_result"
    }
   ],
   "source": [
    "## tokenization -- converts paragraphs-sentences-words\n",
    "nltk.download('punkt')\n",
    "from nltk.tokenize import sent_tokenize\n",
    "nltk.sent_tokenize(paragraph)"
   ]
  },
  {
   "cell_type": "code",
   "execution_count": 22,
   "metadata": {},
   "outputs": [
    {
     "name": "stdout",
     "output_type": "stream",
     "text": [
      "['Your text goes here.', 'It can have multiple sentences.']\n"
     ]
    }
   ],
   "source": [
    "from nltk.tokenize import sent_tokenize\n",
    "\n",
    "paragraph = \"Your text goes here. It can have multiple sentences.\"\n",
    "sentences = sent_tokenize(paragraph, language=\"english\")\n",
    "print(sentences)"
   ]
  },
  {
   "cell_type": "code",
   "execution_count": 23,
   "metadata": {},
   "outputs": [
    {
     "data": {
      "text/plain": [
       "FileSystemPathPointer('/Users/saptarshimandal/nltk_data/tokenizers/punkt')"
      ]
     },
     "execution_count": 23,
     "metadata": {},
     "output_type": "execute_result"
    }
   ],
   "source": [
    "import nltk\n",
    "nltk.data.find('tokenizers/punkt')"
   ]
  },
  {
   "cell_type": "code",
   "execution_count": 24,
   "metadata": {},
   "outputs": [
    {
     "name": "stderr",
     "output_type": "stream",
     "text": [
      "[nltk_data] Downloading package punkt to\n",
      "[nltk_data]     /Users/saptarshimandal/nltk_data/tokenizers/punkt...\n",
      "[nltk_data]   Package punkt is already up-to-date!\n"
     ]
    },
    {
     "data": {
      "text/plain": [
       "True"
      ]
     },
     "execution_count": 24,
     "metadata": {},
     "output_type": "execute_result"
    }
   ],
   "source": [
    "import nltk\n",
    "nltk.data.path.append('/Users/saptarshimandal/nltk_data/tokenizers/punkt')  # Add your nltk_data path\n",
    "nltk.download('punkt', download_dir='/Users/saptarshimandal/nltk_data/tokenizers/punkt')"
   ]
  },
  {
   "cell_type": "code",
   "execution_count": 25,
   "metadata": {},
   "outputs": [
    {
     "name": "stdout",
     "output_type": "stream",
     "text": [
      "['Your text goes here.', 'It can have multiple sentences.']\n"
     ]
    }
   ],
   "source": [
    "from nltk.tokenize import sent_tokenize\n",
    "\n",
    "paragraph = \"Your text goes here. It can have multiple sentences.\"\n",
    "sentences = sent_tokenize(paragraph, language=\"english\")\n",
    "print(sentences)"
   ]
  },
  {
   "cell_type": "code",
   "execution_count": 26,
   "metadata": {},
   "outputs": [
    {
     "name": "stderr",
     "output_type": "stream",
     "text": [
      "[nltk_data] Downloading package punkt to\n",
      "[nltk_data]     /Users/saptarshimandal/nltk_data...\n",
      "[nltk_data]   Unzipping tokenizers/punkt.zip.\n"
     ]
    },
    {
     "data": {
      "text/plain": [
       "True"
      ]
     },
     "execution_count": 26,
     "metadata": {},
     "output_type": "execute_result"
    }
   ],
   "source": [
    "import nltk\n",
    "nltk.download('punkt', force=True)  # Force re-download"
   ]
  },
  {
   "cell_type": "code",
   "execution_count": 27,
   "metadata": {},
   "outputs": [
    {
     "name": "stdout",
     "output_type": "stream",
     "text": [
      "['Your text goes here.', 'It can have multiple sentences.']\n"
     ]
    }
   ],
   "source": [
    "from nltk.tokenize import sent_tokenize\n",
    "\n",
    "paragraph = \"Your text goes here. It can have multiple sentences.\"\n",
    "sentences = sent_tokenize(paragraph, language=\"english\")\n",
    "print(sentences)"
   ]
  },
  {
   "cell_type": "code",
   "execution_count": 28,
   "metadata": {},
   "outputs": [
    {
     "name": "stdout",
     "output_type": "stream",
     "text": [
      "Defaulting to user installation because normal site-packages is not writeable\n",
      "Requirement already satisfied: nltk in /Users/saptarshimandal/Library/Python/3.9/lib/python/site-packages (3.9.1)\n",
      "Requirement already satisfied: click in /Users/saptarshimandal/Library/Python/3.9/lib/python/site-packages (from nltk) (8.1.8)\n",
      "Requirement already satisfied: joblib in /Users/saptarshimandal/Library/Python/3.9/lib/python/site-packages (from nltk) (1.4.2)\n",
      "Requirement already satisfied: regex>=2021.8.3 in /Users/saptarshimandal/Library/Python/3.9/lib/python/site-packages (from nltk) (2024.11.6)\n",
      "Requirement already satisfied: tqdm in /Users/saptarshimandal/Library/Python/3.9/lib/python/site-packages (from nltk) (4.67.1)\n",
      "Note: you may need to restart the kernel to use updated packages.\n"
     ]
    }
   ],
   "source": [
    "pip install --upgrade nltk"
   ]
  },
  {
   "cell_type": "code",
   "execution_count": 29,
   "metadata": {},
   "outputs": [
    {
     "name": "stdout",
     "output_type": "stream",
     "text": [
      "Defaulting to user installation because normal site-packages is not writeable\n",
      "Requirement already satisfied: pip in /Users/saptarshimandal/Library/Python/3.9/lib/python/site-packages (25.0.1)\n",
      "Note: you may need to restart the kernel to use updated packages.\n"
     ]
    }
   ],
   "source": [
    "pip install --upgrade pip"
   ]
  },
  {
   "cell_type": "code",
   "execution_count": 30,
   "metadata": {},
   "outputs": [
    {
     "name": "stdout",
     "output_type": "stream",
     "text": [
      "Defaulting to user installation because normal site-packages is not writeable\n",
      "Requirement already satisfied: nltk in /Users/saptarshimandal/Library/Python/3.9/lib/python/site-packages (3.9.1)\n",
      "Requirement already satisfied: click in /Users/saptarshimandal/Library/Python/3.9/lib/python/site-packages (from nltk) (8.1.8)\n",
      "Requirement already satisfied: joblib in /Users/saptarshimandal/Library/Python/3.9/lib/python/site-packages (from nltk) (1.4.2)\n",
      "Requirement already satisfied: regex>=2021.8.3 in /Users/saptarshimandal/Library/Python/3.9/lib/python/site-packages (from nltk) (2024.11.6)\n",
      "Requirement already satisfied: tqdm in /Users/saptarshimandal/Library/Python/3.9/lib/python/site-packages (from nltk) (4.67.1)\n",
      "Note: you may need to restart the kernel to use updated packages.\n"
     ]
    }
   ],
   "source": [
    "pip install --upgrade nltk"
   ]
  },
  {
   "cell_type": "code",
   "execution_count": 31,
   "metadata": {},
   "outputs": [
    {
     "name": "stderr",
     "output_type": "stream",
     "text": [
      "[nltk_data] Downloading package punkt to\n",
      "[nltk_data]     /Users/saptarshimandal/nltk_data...\n"
     ]
    },
    {
     "name": "stdout",
     "output_type": "stream",
     "text": [
      "['Your text goes here.', 'It can have multiple sentences.']\n"
     ]
    },
    {
     "name": "stderr",
     "output_type": "stream",
     "text": [
      "[nltk_data]   Unzipping tokenizers/punkt.zip.\n"
     ]
    }
   ],
   "source": [
    "nltk.download('punkt')\n",
    "from nltk.tokenize import sent_tokenize\n",
    "\n",
    "paragraph = \"Your text goes here. It can have multiple sentences.\"\n",
    "sentences = sent_tokenize(paragraph, language=\"english\")\n",
    "print(sentences)"
   ]
  },
  {
   "cell_type": "code",
   "execution_count": 32,
   "metadata": {},
   "outputs": [],
   "source": [
    "import nltk\n",
    "from nltk.stem import PorterStemmer\n",
    "from nltk.corpus import stopwords"
   ]
  },
  {
   "cell_type": "code",
   "execution_count": 61,
   "metadata": {},
   "outputs": [],
   "source": [
    "paragraph=\"\"\"Diwali, also known as ‘Deepavali’ (a row of lamps), is one of the most fervently celebrated festivals of India. Diwali is often called the ‘Festival of Lights’, and is celebrated by lighting lamps, and bursting crackers and fireworks. It is a festival which commemorates the victorious return of Lord Rama to Ayodhya after saving his wife Sita from the demon king Ravana. This religious festival represents the triumph of good over evil and light over darkness.\n",
    "People all over India celebrate Diwali by lighting earthen oil lamps and decorating their houses with lights of different colours and sizes. All these lights transform streets across India into a mesmerising sight to behold. Kids celebrate the occasion by bursting crackers and different fireworks like sparklers, rockets, flower pots, fountains, peony fireworks, etc.\n",
    "Diwali falls on the 20th day after the festival of Dussehra, usually in October or November every year. Families and friends visit each other, exchange gifts, and share delicious food to celebrate the occasion. Goddess Lakshmi, the goddess of wealth, is also worshipped on the occasion.\n",
    "In recent years, the use of crackers and fireworks has come down dramatically as it contributes to air pollution and noise pollution, especially in cities where you hear a cracker bursting every other second. There are also safety issues concerning the use of fireworks, especially by children. So let us celebrate this festival of lights with more care and responsibility.\"\"\"\n"
   ]
  },
  {
   "cell_type": "code",
   "execution_count": null,
   "metadata": {},
   "outputs": [
    {
     "name": "stderr",
     "output_type": "stream",
     "text": [
      "[nltk_data] Downloading package punkt to\n",
      "[nltk_data]     /Users/saptarshimandal/nltk_data...\n",
      "[nltk_data]   Unzipping tokenizers/punkt.zip.\n",
      "[nltk_data] Downloading package punkt_tab to\n",
      "[nltk_data]     /Users/saptarshimandal/nltk_data...\n",
      "[nltk_data]   Package punkt_tab is already up-to-date!\n"
     ]
    },
    {
     "data": {
      "text/plain": [
       "['Diwali, also known as ‘Deepavali’ (a row of lamps), is one of the most fervently celebrated festivals of India.',\n",
       " 'Diwali is often called the ‘Festival of Lights’, and is celebrated by lighting lamps, and bursting crackers and fireworks.',\n",
       " 'It is a festival which commemorates the victorious return of Lord Rama to Ayodhya after saving his wife Sita from the demon king Ravana.',\n",
       " 'This religious festival represents the triumph of good over evil and light over darkness.',\n",
       " 'People all over India celebrate Diwali by lighting earthen oil lamps and decorating their houses with lights of different colours and sizes.',\n",
       " 'All these lights transform streets across India into a mesmerising sight to behold.',\n",
       " 'Kids celebrate the occasion by bursting crackers and different fireworks like sparklers, rockets, flower pots, fountains, peony fireworks, etc.',\n",
       " 'Diwali falls on the 20th day after the festival of Dussehra, usually in October or November every year.',\n",
       " 'Families and friends visit each other, exchange gifts, and share delicious food to celebrate the occasion.',\n",
       " 'Goddess Lakshmi, the goddess of wealth, is also worshipped on the occasion.',\n",
       " 'In recent years, the use of crackers and fireworks has come down dramatically as it contributes to air pollution and noise pollution, especially in cities where you hear a cracker bursting every other second.',\n",
       " 'There are also safety issues concerning the use of fireworks, especially by children.',\n",
       " 'So let us celebrate this festival of lights with more care and responsibility.']"
      ]
     },
     "execution_count": 62,
     "metadata": {},
     "output_type": "execute_result"
    }
   ],
   "source": [
    "## tokenization -- converts paragraphs-sentences-words\n",
    "nltk.download('punkt')\n",
    "nltk.download('punkt_tab')"
   ]
  },
  {
   "cell_type": "code",
   "execution_count": 63,
   "metadata": {},
   "outputs": [
    {
     "data": {
      "text/plain": [
       "['Diwali, also known as ‘Deepavali’ (a row of lamps), is one of the most fervently celebrated festivals of India.',\n",
       " 'Diwali is often called the ‘Festival of Lights’, and is celebrated by lighting lamps, and bursting crackers and fireworks.',\n",
       " 'It is a festival which commemorates the victorious return of Lord Rama to Ayodhya after saving his wife Sita from the demon king Ravana.',\n",
       " 'This religious festival represents the triumph of good over evil and light over darkness.',\n",
       " 'People all over India celebrate Diwali by lighting earthen oil lamps and decorating their houses with lights of different colours and sizes.',\n",
       " 'All these lights transform streets across India into a mesmerising sight to behold.',\n",
       " 'Kids celebrate the occasion by bursting crackers and different fireworks like sparklers, rockets, flower pots, fountains, peony fireworks, etc.',\n",
       " 'Diwali falls on the 20th day after the festival of Dussehra, usually in October or November every year.',\n",
       " 'Families and friends visit each other, exchange gifts, and share delicious food to celebrate the occasion.',\n",
       " 'Goddess Lakshmi, the goddess of wealth, is also worshipped on the occasion.',\n",
       " 'In recent years, the use of crackers and fireworks has come down dramatically as it contributes to air pollution and noise pollution, especially in cities where you hear a cracker bursting every other second.',\n",
       " 'There are also safety issues concerning the use of fireworks, especially by children.',\n",
       " 'So let us celebrate this festival of lights with more care and responsibility.']"
      ]
     },
     "execution_count": 63,
     "metadata": {},
     "output_type": "execute_result"
    }
   ],
   "source": [
    "\n",
    "from nltk.tokenize import sent_tokenize\n",
    "nltk.sent_tokenize(paragraph, language=\"english\")"
   ]
  },
  {
   "cell_type": "code",
   "execution_count": 64,
   "metadata": {},
   "outputs": [],
   "source": [
    "sentences=nltk.sent_tokenize(paragraph)"
   ]
  },
  {
   "cell_type": "code",
   "execution_count": 53,
   "metadata": {},
   "outputs": [
    {
     "data": {
      "text/plain": [
       "list"
      ]
     },
     "execution_count": 53,
     "metadata": {},
     "output_type": "execute_result"
    }
   ],
   "source": [
    "type(sentences)"
   ]
  },
  {
   "cell_type": "code",
   "execution_count": 37,
   "metadata": {},
   "outputs": [
    {
     "data": {
      "text/plain": [
       "'drink'"
      ]
     },
     "execution_count": 37,
     "metadata": {},
     "output_type": "execute_result"
    }
   ],
   "source": [
    "stemmer=PorterStemmer()\n",
    "stemmer.stem('drinking')"
   ]
  },
  {
   "cell_type": "code",
   "execution_count": 38,
   "metadata": {},
   "outputs": [
    {
     "name": "stderr",
     "output_type": "stream",
     "text": [
      "[nltk_data] Downloading package wordnet to\n",
      "[nltk_data]     /Users/saptarshimandal/nltk_data...\n",
      "[nltk_data]   Package wordnet is already up-to-date!\n"
     ]
    },
    {
     "data": {
      "text/plain": [
       "'go'"
      ]
     },
     "execution_count": 38,
     "metadata": {},
     "output_type": "execute_result"
    }
   ],
   "source": [
    "from nltk.stem import WordNetLemmatizer\n",
    "lemmatizer=WordNetLemmatizer()\n",
    "nltk.download('wordnet')\n",
    "lemmatizer.lemmatize('goes')"
   ]
  },
  {
   "cell_type": "code",
   "execution_count": 39,
   "metadata": {},
   "outputs": [
    {
     "data": {
      "text/plain": [
       "13"
      ]
     },
     "execution_count": 39,
     "metadata": {},
     "output_type": "execute_result"
    }
   ],
   "source": [
    "len(sentences)"
   ]
  },
  {
   "cell_type": "code",
   "execution_count": 69,
   "metadata": {},
   "outputs": [
    {
     "data": {
      "text/plain": [
       "list"
      ]
     },
     "execution_count": 69,
     "metadata": {},
     "output_type": "execute_result"
    }
   ],
   "source": [
    "type(sentences)"
   ]
  },
  {
   "cell_type": "code",
   "execution_count": 70,
   "metadata": {},
   "outputs": [
    {
     "name": "stdout",
     "output_type": "stream",
     "text": [
      "['diwali  also known as  deepavali   a row of lamps   is one of the most fervently celebrated festivals of india ', 'diwali is often called the  festival of lights   and is celebrated by lighting lamps  and bursting crackers and fireworks ', 'it is a festival which commemorates the victorious return of lord rama to ayodhya after saving his wife sita from the demon king ravana ', 'this religious festival represents the triumph of good over evil and light over darkness ', 'people all over india celebrate diwali by lighting earthen oil lamps and decorating their houses with lights of different colours and sizes ', 'all these lights transform streets across india into a mesmerising sight to behold ', 'kids celebrate the occasion by bursting crackers and different fireworks like sparklers  rockets  flower pots  fountains  peony fireworks  etc ', 'diwali falls on the   th day after the festival of dussehra  usually in october or november every year ', 'families and friends visit each other  exchange gifts  and share delicious food to celebrate the occasion ', 'goddess lakshmi  the goddess of wealth  is also worshipped on the occasion ', 'in recent years  the use of crackers and fireworks has come down dramatically as it contributes to air pollution and noise pollution  especially in cities where you hear a cracker bursting every other second ', 'there are also safety issues concerning the use of fireworks  especially by children ', 'so let us celebrate this festival of lights with more care and responsibility ']\n"
     ]
    }
   ],
   "source": [
    "import re\n",
    "corpus=[]\n",
    "for i in range(len(sentences)):\n",
    "    review=re.sub('[^a-zA-Z]',' ',sentences[i])\n",
    "    review=review.lower()\n",
    "    corpus.append(review)\n",
    "\n",
    "print(corpus) "
   ]
  },
  {
   "cell_type": "code",
   "execution_count": 41,
   "metadata": {},
   "outputs": [
    {
     "name": "stdout",
     "output_type": "stream",
     "text": [
      "diwali\n",
      "also\n",
      "known\n",
      "deepavali\n",
      "row\n",
      "lamp\n",
      "one\n",
      "fervent\n",
      "celebr\n",
      "festiv\n",
      "india\n",
      "diwali\n",
      "often\n",
      "call\n",
      "festiv\n",
      "light\n",
      "celebr\n",
      "light\n",
      "lamp\n",
      "burst\n",
      "cracker\n",
      "firework\n",
      "festiv\n",
      "commemor\n",
      "victori\n",
      "return\n",
      "lord\n",
      "rama\n",
      "ayodhya\n",
      "save\n",
      "wife\n",
      "sita\n",
      "demon\n",
      "king\n",
      "ravana\n",
      "religi\n",
      "festiv\n",
      "repres\n",
      "triumph\n",
      "good\n",
      "evil\n",
      "light\n",
      "dark\n",
      "peopl\n",
      "india\n",
      "celebr\n",
      "diwali\n",
      "light\n",
      "earthen\n",
      "oil\n",
      "lamp\n",
      "decor\n",
      "hous\n",
      "light\n",
      "differ\n",
      "colour\n",
      "size\n",
      "light\n",
      "transform\n",
      "street\n",
      "across\n",
      "india\n",
      "mesmeris\n",
      "sight\n",
      "behold\n",
      "kid\n",
      "celebr\n",
      "occas\n",
      "burst\n",
      "cracker\n",
      "differ\n",
      "firework\n",
      "like\n",
      "sparkler\n",
      "rocket\n",
      "flower\n",
      "pot\n",
      "fountain\n",
      "peoni\n",
      "firework\n",
      "etc\n",
      "diwali\n",
      "fall\n",
      "th\n",
      "day\n",
      "festiv\n",
      "dussehra\n",
      "usual\n",
      "octob\n",
      "novemb\n",
      "everi\n",
      "year\n",
      "famili\n",
      "friend\n",
      "visit\n",
      "exchang\n",
      "gift\n",
      "share\n",
      "delici\n",
      "food\n",
      "celebr\n",
      "occas\n",
      "goddess\n",
      "lakshmi\n",
      "goddess\n",
      "wealth\n",
      "also\n",
      "worship\n",
      "occas\n",
      "recent\n",
      "year\n",
      "use\n",
      "cracker\n",
      "firework\n",
      "come\n",
      "dramat\n",
      "contribut\n",
      "air\n",
      "pollut\n",
      "nois\n",
      "pollut\n",
      "especi\n",
      "citi\n",
      "hear\n",
      "cracker\n",
      "burst\n",
      "everi\n",
      "second\n",
      "also\n",
      "safeti\n",
      "issu\n",
      "concern\n",
      "use\n",
      "firework\n",
      "especi\n",
      "children\n",
      "let\n",
      "us\n",
      "celebr\n",
      "festiv\n",
      "light\n",
      "care\n",
      "respons\n"
     ]
    },
    {
     "name": "stderr",
     "output_type": "stream",
     "text": [
      "[nltk_data] Downloading package stopwords to\n",
      "[nltk_data]     /Users/saptarshimandal/nltk_data...\n",
      "[nltk_data]   Package stopwords is already up-to-date!\n"
     ]
    }
   ],
   "source": [
    "### stemming\n",
    "\n",
    "nltk.download('stopwords')\n",
    "for i in corpus:\n",
    "    words=nltk.word_tokenize(i)\n",
    "    for word in words:\n",
    "        if word not in set(stopwords.words('english')):\n",
    "            print(stemmer.stem(word))"
   ]
  },
  {
   "cell_type": "code",
   "execution_count": 42,
   "metadata": {},
   "outputs": [
    {
     "name": "stdout",
     "output_type": "stream",
     "text": [
      "diwali\n",
      "also\n",
      "known\n",
      "deepavali\n",
      "row\n",
      "lamp\n",
      "one\n",
      "fervent\n",
      "celebr\n",
      "festiv\n",
      "india\n",
      "diwali\n",
      "often\n",
      "call\n",
      "festiv\n",
      "light\n",
      "celebr\n",
      "light\n",
      "lamp\n",
      "burst\n",
      "cracker\n",
      "firework\n",
      "festiv\n",
      "commemor\n",
      "victori\n",
      "return\n",
      "lord\n",
      "rama\n",
      "ayodhya\n",
      "save\n",
      "wife\n",
      "sita\n",
      "demon\n",
      "king\n",
      "ravana\n",
      "religi\n",
      "festiv\n",
      "repres\n",
      "triumph\n",
      "good\n",
      "evil\n",
      "light\n",
      "dark\n",
      "peopl\n",
      "india\n",
      "celebr\n",
      "diwali\n",
      "light\n",
      "earthen\n",
      "oil\n",
      "lamp\n",
      "decor\n",
      "hous\n",
      "light\n",
      "differ\n",
      "colour\n",
      "size\n",
      "light\n",
      "transform\n",
      "street\n",
      "across\n",
      "india\n",
      "mesmeris\n",
      "sight\n",
      "behold\n",
      "kid\n",
      "celebr\n",
      "occas\n",
      "burst\n",
      "cracker\n",
      "differ\n",
      "firework\n",
      "like\n",
      "sparkler\n",
      "rocket\n",
      "flower\n",
      "pot\n",
      "fountain\n",
      "peoni\n",
      "firework\n",
      "etc\n",
      "diwali\n",
      "fall\n",
      "th\n",
      "day\n",
      "festiv\n",
      "dussehra\n",
      "usual\n",
      "octob\n",
      "novemb\n",
      "everi\n",
      "year\n",
      "famili\n",
      "friend\n",
      "visit\n",
      "exchang\n",
      "gift\n",
      "share\n",
      "delici\n",
      "food\n",
      "celebr\n",
      "occas\n",
      "goddess\n",
      "lakshmi\n",
      "goddess\n",
      "wealth\n",
      "also\n",
      "worship\n",
      "occas\n",
      "recent\n",
      "year\n",
      "use\n",
      "cracker\n",
      "firework\n",
      "come\n",
      "dramat\n",
      "contribut\n",
      "air\n",
      "pollut\n",
      "nois\n",
      "pollut\n",
      "especi\n",
      "citi\n",
      "hear\n",
      "cracker\n",
      "burst\n",
      "everi\n",
      "second\n",
      "also\n",
      "safeti\n",
      "issu\n",
      "concern\n",
      "use\n",
      "firework\n",
      "especi\n",
      "children\n",
      "let\n",
      "us\n",
      "celebr\n",
      "festiv\n",
      "light\n",
      "care\n",
      "respons\n"
     ]
    }
   ],
   "source": [
    "## lemmatization\n",
    "\n",
    "for i in corpus:\n",
    "    words=nltk.word_tokenize(i)\n",
    "    for word in words:\n",
    "        if word not in set(stopwords.words('english')):\n",
    "            print(stemmer.stem(word))"
   ]
  },
  {
   "cell_type": "code",
   "execution_count": 66,
   "metadata": {},
   "outputs": [
    {
     "data": {
      "text/plain": [
       "list"
      ]
     },
     "execution_count": 66,
     "metadata": {},
     "output_type": "execute_result"
    }
   ],
   "source": [
    "type(sentences)"
   ]
  },
  {
   "cell_type": "code",
   "execution_count": 74,
   "metadata": {},
   "outputs": [
    {
     "name": "stderr",
     "output_type": "stream",
     "text": [
      "[nltk_data] Downloading package wordnet to\n",
      "[nltk_data]     /Users/saptarshimandal/nltk_data...\n",
      "[nltk_data]   Package wordnet is already up-to-date!\n"
     ]
    }
   ],
   "source": [
    "## Apply Stopwords.Lemmatize\n",
    "\n",
    "import re\n",
    "nltk.download('wordnet')\n",
    "corpus = []\n",
    "for i in range(len(sentences)):\n",
    "    review = re.sub('[^a-zA-Z]',' ',sentences[i])\n",
    "    review = review.lower()\n",
    "    review = review.split()\n",
    "    review = [lemmatizer.lemmatize(word) for word in review if not word in set(stopwords.words('english'))]\n",
    "    review = ' '.join(review)\n",
    "    corpus.append(review)"
   ]
  },
  {
   "cell_type": "code",
   "execution_count": 76,
   "metadata": {},
   "outputs": [
    {
     "data": {
      "text/plain": [
       "'diwali also known deepavali row lamp one fervently celebrated festival india'"
      ]
     },
     "execution_count": 76,
     "metadata": {},
     "output_type": "execute_result"
    }
   ],
   "source": [
    "corpus[0]"
   ]
  },
  {
   "cell_type": "code",
   "execution_count": 75,
   "metadata": {},
   "outputs": [
    {
     "data": {
      "text/plain": [
       "{'diwali': 25,\n",
       " 'also': 2,\n",
       " 'known': 52,\n",
       " 'deepavali': 21,\n",
       " 'row': 80,\n",
       " 'lamp': 54,\n",
       " 'one': 67,\n",
       " 'fervently': 36,\n",
       " 'celebrated': 9,\n",
       " 'festival': 37,\n",
       " 'india': 48,\n",
       " 'often': 65,\n",
       " 'called': 6,\n",
       " 'light': 56,\n",
       " 'lighting': 57,\n",
       " 'bursting': 5,\n",
       " 'cracker': 17,\n",
       " 'firework': 38,\n",
       " 'commemorates': 14,\n",
       " 'victorious': 95,\n",
       " 'return': 78,\n",
       " 'lord': 59,\n",
       " 'rama': 72,\n",
       " 'ayodhya': 3,\n",
       " 'saving': 82,\n",
       " 'wife': 98,\n",
       " 'sita': 86,\n",
       " 'demon': 23,\n",
       " 'king': 51,\n",
       " 'ravana': 73,\n",
       " 'religious': 75,\n",
       " 'represents': 76,\n",
       " 'triumph': 92,\n",
       " 'good': 45,\n",
       " 'evil': 32,\n",
       " 'darkness': 18,\n",
       " 'people': 69,\n",
       " 'celebrate': 8,\n",
       " 'earthen': 28,\n",
       " 'oil': 66,\n",
       " 'decorating': 20,\n",
       " 'house': 47,\n",
       " 'different': 24,\n",
       " 'colour': 12,\n",
       " 'size': 87,\n",
       " 'transform': 91,\n",
       " 'street': 89,\n",
       " 'across': 0,\n",
       " 'mesmerising': 60,\n",
       " 'sight': 85,\n",
       " 'behold': 4,\n",
       " 'kid': 50,\n",
       " 'occasion': 63,\n",
       " 'like': 58,\n",
       " 'sparkler': 88,\n",
       " 'rocket': 79,\n",
       " 'flower': 39,\n",
       " 'pot': 71,\n",
       " 'fountain': 41,\n",
       " 'peony': 68,\n",
       " 'etc': 30,\n",
       " 'fall': 34,\n",
       " 'th': 90,\n",
       " 'day': 19,\n",
       " 'dussehra': 27,\n",
       " 'usually': 94,\n",
       " 'october': 64,\n",
       " 'november': 62,\n",
       " 'every': 31,\n",
       " 'year': 100,\n",
       " 'family': 35,\n",
       " 'friend': 42,\n",
       " 'visit': 96,\n",
       " 'exchange': 33,\n",
       " 'gift': 43,\n",
       " 'share': 84,\n",
       " 'delicious': 22,\n",
       " 'food': 40,\n",
       " 'goddess': 44,\n",
       " 'lakshmi': 53,\n",
       " 'wealth': 97,\n",
       " 'worshipped': 99,\n",
       " 'recent': 74,\n",
       " 'use': 93,\n",
       " 'come': 13,\n",
       " 'dramatically': 26,\n",
       " 'contributes': 16,\n",
       " 'air': 1,\n",
       " 'pollution': 70,\n",
       " 'noise': 61,\n",
       " 'especially': 29,\n",
       " 'city': 11,\n",
       " 'hear': 46,\n",
       " 'second': 83,\n",
       " 'safety': 81,\n",
       " 'issue': 49,\n",
       " 'concerning': 15,\n",
       " 'child': 10,\n",
       " 'let': 55,\n",
       " 'care': 7,\n",
       " 'responsibility': 77}"
      ]
     },
     "execution_count": 75,
     "metadata": {},
     "output_type": "execute_result"
    }
   ],
   "source": [
    "from sklearn.feature_extraction.text import CountVectorizer\n",
    "cv=CountVectorizer(binary=True)\n",
    "X=cv.fit_transform(corpus)\n",
    "cv.vocabulary_"
   ]
  },
  {
   "cell_type": "code",
   "execution_count": 77,
   "metadata": {},
   "outputs": [
    {
     "data": {
      "text/plain": [
       "'diwali also known deepavali row lamp one fervently celebrated festival india'"
      ]
     },
     "execution_count": 77,
     "metadata": {},
     "output_type": "execute_result"
    }
   ],
   "source": [
    "corpus[0]"
   ]
  },
  {
   "cell_type": "code",
   "execution_count": 78,
   "metadata": {},
   "outputs": [
    {
     "data": {
      "text/plain": [
       "array([[0, 0, 1, 0, 0, 0, 0, 0, 0, 1, 0, 0, 0, 0, 0, 0, 0, 0, 0, 0, 0, 1,\n",
       "        0, 0, 0, 1, 0, 0, 0, 0, 0, 0, 0, 0, 0, 0, 1, 1, 0, 0, 0, 0, 0, 0,\n",
       "        0, 0, 0, 0, 1, 0, 0, 0, 1, 0, 1, 0, 0, 0, 0, 0, 0, 0, 0, 0, 0, 0,\n",
       "        0, 1, 0, 0, 0, 0, 0, 0, 0, 0, 0, 0, 0, 0, 1, 0, 0, 0, 0, 0, 0, 0,\n",
       "        0, 0, 0, 0, 0, 0, 0, 0, 0, 0, 0, 0, 0]])"
      ]
     },
     "execution_count": 78,
     "metadata": {},
     "output_type": "execute_result"
    }
   ],
   "source": [
    "X[0].toarray()"
   ]
  },
  {
   "cell_type": "code",
   "execution_count": 82,
   "metadata": {},
   "outputs": [],
   "source": [
    "## Apply Stopwords Lemmetize\n",
    "\n",
    "import re\n",
    "corpus=[]\n",
    "for i in range(len(sentences)):\n",
    "    review = re.sub('[^a-zA-Z]',' ',sentences[i])\n",
    "    review = review.lower()\n",
    "    review = review.split()\n",
    "    review = [lemmatizer.lemmatize(word) for word in review if not word in set(stopwords.words('english'))]\n",
    "    review = ' '.join(review)\n",
    "    corpus.append(review)"
   ]
  },
  {
   "cell_type": "code",
   "execution_count": 83,
   "metadata": {},
   "outputs": [
    {
     "data": {
      "text/plain": [
       "['diwali also known deepavali row lamp one fervently celebrated festival india',\n",
       " 'diwali often called festival light celebrated lighting lamp bursting cracker firework',\n",
       " 'festival commemorates victorious return lord rama ayodhya saving wife sita demon king ravana',\n",
       " 'religious festival represents triumph good evil light darkness',\n",
       " 'people india celebrate diwali lighting earthen oil lamp decorating house light different colour size',\n",
       " 'light transform street across india mesmerising sight behold',\n",
       " 'kid celebrate occasion bursting cracker different firework like sparkler rocket flower pot fountain peony firework etc',\n",
       " 'diwali fall th day festival dussehra usually october november every year',\n",
       " 'family friend visit exchange gift share delicious food celebrate occasion',\n",
       " 'goddess lakshmi goddess wealth also worshipped occasion',\n",
       " 'recent year use cracker firework come dramatically contributes air pollution noise pollution especially city hear cracker bursting every second',\n",
       " 'also safety issue concerning use firework especially child',\n",
       " 'let u celebrate festival light care responsibility']"
      ]
     },
     "execution_count": 83,
     "metadata": {},
     "output_type": "execute_result"
    }
   ],
   "source": [
    "corpus"
   ]
  },
  {
   "cell_type": "code",
   "execution_count": 91,
   "metadata": {},
   "outputs": [],
   "source": [
    "### Bag Of Words\n",
    "\n",
    "from sklearn.feature_extraction.text import CountVectorizer\n",
    "cv=CountVectorizer(binary=True,ngram_range=(2,3))"
   ]
  },
  {
   "cell_type": "code",
   "execution_count": 92,
   "metadata": {},
   "outputs": [],
   "source": [
    "X=cv.fit_transform(corpus)"
   ]
  },
  {
   "cell_type": "code",
   "execution_count": 93,
   "metadata": {},
   "outputs": [
    {
     "data": {
      "text/plain": [
       "{'diwali also': 61,\n",
       " 'also known': 4,\n",
       " 'known deepavali': 136,\n",
       " 'deepavali row': 51,\n",
       " 'row lamp': 203,\n",
       " 'lamp one': 144,\n",
       " 'one fervently': 179,\n",
       " 'fervently celebrated': 88,\n",
       " 'celebrated festival': 26,\n",
       " 'festival india': 94,\n",
       " 'diwali also known': 62,\n",
       " 'also known deepavali': 5,\n",
       " 'known deepavali row': 137,\n",
       " 'deepavali row lamp': 52,\n",
       " 'row lamp one': 204,\n",
       " 'lamp one fervently': 145,\n",
       " 'one fervently celebrated': 180,\n",
       " 'fervently celebrated festival': 89,\n",
       " 'celebrated festival india': 27,\n",
       " 'diwali often': 67,\n",
       " 'often called': 175,\n",
       " 'called festival': 17,\n",
       " 'festival light': 95,\n",
       " 'light celebrated': 150,\n",
       " 'celebrated lighting': 28,\n",
       " 'lighting lamp': 159,\n",
       " 'lamp bursting': 140,\n",
       " 'bursting cracker': 12,\n",
       " 'cracker firework': 45,\n",
       " 'diwali often called': 68,\n",
       " 'often called festival': 176,\n",
       " 'called festival light': 18,\n",
       " 'festival light celebrated': 97,\n",
       " 'light celebrated lighting': 151,\n",
       " 'celebrated lighting lamp': 29,\n",
       " 'lighting lamp bursting': 160,\n",
       " 'lamp bursting cracker': 141,\n",
       " 'bursting cracker firework': 14,\n",
       " 'festival commemorates': 90,\n",
       " 'commemorates victorious': 35,\n",
       " 'victorious return': 230,\n",
       " 'return lord': 199,\n",
       " 'lord rama': 163,\n",
       " 'rama ayodhya': 191,\n",
       " 'ayodhya saving': 10,\n",
       " 'saving wife': 207,\n",
       " 'wife sita': 236,\n",
       " 'sita demon': 212,\n",
       " 'demon king': 55,\n",
       " 'king ravana': 135,\n",
       " 'festival commemorates victorious': 91,\n",
       " 'commemorates victorious return': 36,\n",
       " 'victorious return lord': 231,\n",
       " 'return lord rama': 200,\n",
       " 'lord rama ayodhya': 164,\n",
       " 'rama ayodhya saving': 192,\n",
       " 'ayodhya saving wife': 11,\n",
       " 'saving wife sita': 208,\n",
       " 'wife sita demon': 237,\n",
       " 'sita demon king': 213,\n",
       " 'demon king ravana': 56,\n",
       " 'religious festival': 195,\n",
       " 'festival represents': 98,\n",
       " 'represents triumph': 197,\n",
       " 'triumph good': 222,\n",
       " 'good evil': 121,\n",
       " 'evil light': 80,\n",
       " 'light darkness': 152,\n",
       " 'religious festival represents': 196,\n",
       " 'festival represents triumph': 99,\n",
       " 'represents triumph good': 198,\n",
       " 'triumph good evil': 223,\n",
       " 'good evil light': 122,\n",
       " 'evil light darkness': 81,\n",
       " 'people india': 183,\n",
       " 'india celebrate': 127,\n",
       " 'celebrate diwali': 20,\n",
       " 'diwali lighting': 65,\n",
       " 'lighting earthen': 157,\n",
       " 'earthen oil': 73,\n",
       " 'oil lamp': 177,\n",
       " 'lamp decorating': 142,\n",
       " 'decorating house': 49,\n",
       " 'house light': 125,\n",
       " 'light different': 153,\n",
       " 'different colour': 57,\n",
       " 'colour size': 32,\n",
       " 'people india celebrate': 184,\n",
       " 'india celebrate diwali': 128,\n",
       " 'celebrate diwali lighting': 21,\n",
       " 'diwali lighting earthen': 66,\n",
       " 'lighting earthen oil': 158,\n",
       " 'earthen oil lamp': 74,\n",
       " 'oil lamp decorating': 178,\n",
       " 'lamp decorating house': 143,\n",
       " 'decorating house light': 50,\n",
       " 'house light different': 126,\n",
       " 'light different colour': 154,\n",
       " 'different colour size': 58,\n",
       " 'light transform': 155,\n",
       " 'transform street': 220,\n",
       " 'street across': 216,\n",
       " 'across india': 0,\n",
       " 'india mesmerising': 129,\n",
       " 'mesmerising sight': 165,\n",
       " 'sight behold': 211,\n",
       " 'light transform street': 156,\n",
       " 'transform street across': 221,\n",
       " 'street across india': 217,\n",
       " 'across india mesmerising': 1,\n",
       " 'india mesmerising sight': 130,\n",
       " 'mesmerising sight behold': 166,\n",
       " 'kid celebrate': 133,\n",
       " 'celebrate occasion': 24,\n",
       " 'occasion bursting': 171,\n",
       " 'cracker different': 43,\n",
       " 'different firework': 59,\n",
       " 'firework like': 105,\n",
       " 'like sparkler': 161,\n",
       " 'sparkler rocket': 214,\n",
       " 'rocket flower': 201,\n",
       " 'flower pot': 107,\n",
       " 'pot fountain': 189,\n",
       " 'fountain peony': 111,\n",
       " 'peony firework': 181,\n",
       " 'firework etc': 104,\n",
       " 'kid celebrate occasion': 134,\n",
       " 'celebrate occasion bursting': 25,\n",
       " 'occasion bursting cracker': 172,\n",
       " 'bursting cracker different': 13,\n",
       " 'cracker different firework': 44,\n",
       " 'different firework like': 60,\n",
       " 'firework like sparkler': 106,\n",
       " 'like sparkler rocket': 162,\n",
       " 'sparkler rocket flower': 215,\n",
       " 'rocket flower pot': 202,\n",
       " 'flower pot fountain': 108,\n",
       " 'pot fountain peony': 190,\n",
       " 'fountain peony firework': 112,\n",
       " 'peony firework etc': 182,\n",
       " 'diwali fall': 63,\n",
       " 'fall th': 84,\n",
       " 'th day': 218,\n",
       " 'day festival': 47,\n",
       " 'festival dussehra': 92,\n",
       " 'dussehra usually': 71,\n",
       " 'usually october': 228,\n",
       " 'october november': 173,\n",
       " 'november every': 169,\n",
       " 'every year': 79,\n",
       " 'diwali fall th': 64,\n",
       " 'fall th day': 85,\n",
       " 'th day festival': 219,\n",
       " 'day festival dussehra': 48,\n",
       " 'festival dussehra usually': 93,\n",
       " 'dussehra usually october': 72,\n",
       " 'usually october november': 229,\n",
       " 'october november every': 174,\n",
       " 'november every year': 170,\n",
       " 'family friend': 86,\n",
       " 'friend visit': 113,\n",
       " 'visit exchange': 232,\n",
       " 'exchange gift': 82,\n",
       " 'gift share': 115,\n",
       " 'share delicious': 209,\n",
       " 'delicious food': 53,\n",
       " 'food celebrate': 109,\n",
       " 'family friend visit': 87,\n",
       " 'friend visit exchange': 114,\n",
       " 'visit exchange gift': 233,\n",
       " 'exchange gift share': 83,\n",
       " 'gift share delicious': 116,\n",
       " 'share delicious food': 210,\n",
       " 'delicious food celebrate': 54,\n",
       " 'food celebrate occasion': 110,\n",
       " 'goddess lakshmi': 117,\n",
       " 'lakshmi goddess': 138,\n",
       " 'goddess wealth': 119,\n",
       " 'wealth also': 234,\n",
       " 'also worshipped': 8,\n",
       " 'worshipped occasion': 238,\n",
       " 'goddess lakshmi goddess': 118,\n",
       " 'lakshmi goddess wealth': 139,\n",
       " 'goddess wealth also': 120,\n",
       " 'wealth also worshipped': 235,\n",
       " 'also worshipped occasion': 9,\n",
       " 'recent year': 193,\n",
       " 'year use': 239,\n",
       " 'use cracker': 224,\n",
       " 'firework come': 100,\n",
       " 'come dramatically': 33,\n",
       " 'dramatically contributes': 69,\n",
       " 'contributes air': 39,\n",
       " 'air pollution': 2,\n",
       " 'pollution noise': 187,\n",
       " 'noise pollution': 167,\n",
       " 'pollution especially': 185,\n",
       " 'especially city': 76,\n",
       " 'city hear': 30,\n",
       " 'hear cracker': 123,\n",
       " 'cracker bursting': 41,\n",
       " 'bursting every': 15,\n",
       " 'every second': 78,\n",
       " 'recent year use': 194,\n",
       " 'year use cracker': 240,\n",
       " 'use cracker firework': 225,\n",
       " 'cracker firework come': 46,\n",
       " 'firework come dramatically': 101,\n",
       " 'come dramatically contributes': 34,\n",
       " 'dramatically contributes air': 70,\n",
       " 'contributes air pollution': 40,\n",
       " 'air pollution noise': 3,\n",
       " 'pollution noise pollution': 188,\n",
       " 'noise pollution especially': 168,\n",
       " 'pollution especially city': 186,\n",
       " 'especially city hear': 77,\n",
       " 'city hear cracker': 31,\n",
       " 'hear cracker bursting': 124,\n",
       " 'cracker bursting every': 42,\n",
       " 'bursting every second': 16,\n",
       " 'also safety': 6,\n",
       " 'safety issue': 205,\n",
       " 'issue concerning': 131,\n",
       " 'concerning use': 37,\n",
       " 'use firework': 226,\n",
       " 'firework especially': 102,\n",
       " 'especially child': 75,\n",
       " 'also safety issue': 7,\n",
       " 'safety issue concerning': 206,\n",
       " 'issue concerning use': 132,\n",
       " 'concerning use firework': 38,\n",
       " 'use firework especially': 227,\n",
       " 'firework especially child': 103,\n",
       " 'let celebrate': 146,\n",
       " 'celebrate festival': 22,\n",
       " 'light care': 148,\n",
       " 'care responsibility': 19,\n",
       " 'let celebrate festival': 147,\n",
       " 'celebrate festival light': 23,\n",
       " 'festival light care': 96,\n",
       " 'light care responsibility': 149}"
      ]
     },
     "execution_count": 93,
     "metadata": {},
     "output_type": "execute_result"
    }
   ],
   "source": [
    "cv.vocabulary_"
   ]
  },
  {
   "cell_type": "code",
   "execution_count": 94,
   "metadata": {},
   "outputs": [
    {
     "data": {
      "text/plain": [
       "'diwali also known deepavali row lamp one fervently celebrated festival india'"
      ]
     },
     "execution_count": 94,
     "metadata": {},
     "output_type": "execute_result"
    }
   ],
   "source": [
    "corpus[0]"
   ]
  },
  {
   "cell_type": "code",
   "execution_count": 95,
   "metadata": {},
   "outputs": [
    {
     "data": {
      "text/plain": [
       "array([[0, 0, 0, 0, 1, 1, 0, 0, 0, 0, 0, 0, 0, 0, 0, 0, 0, 0, 0, 0, 0, 0,\n",
       "        0, 0, 0, 0, 1, 1, 0, 0, 0, 0, 0, 0, 0, 0, 0, 0, 0, 0, 0, 0, 0, 0,\n",
       "        0, 0, 0, 0, 0, 0, 0, 1, 1, 0, 0, 0, 0, 0, 0, 0, 0, 1, 1, 0, 0, 0,\n",
       "        0, 0, 0, 0, 0, 0, 0, 0, 0, 0, 0, 0, 0, 0, 0, 0, 0, 0, 0, 0, 0, 0,\n",
       "        1, 1, 0, 0, 0, 0, 1, 0, 0, 0, 0, 0, 0, 0, 0, 0, 0, 0, 0, 0, 0, 0,\n",
       "        0, 0, 0, 0, 0, 0, 0, 0, 0, 0, 0, 0, 0, 0, 0, 0, 0, 0, 0, 0, 0, 0,\n",
       "        0, 0, 0, 0, 1, 1, 0, 0, 0, 0, 0, 0, 1, 1, 0, 0, 0, 0, 0, 0, 0, 0,\n",
       "        0, 0, 0, 0, 0, 0, 0, 0, 0, 0, 0, 0, 0, 0, 0, 0, 0, 0, 0, 0, 0, 0,\n",
       "        0, 0, 0, 1, 1, 0, 0, 0, 0, 0, 0, 0, 0, 0, 0, 0, 0, 0, 0, 0, 0, 0,\n",
       "        0, 0, 0, 0, 0, 1, 1, 0, 0, 0, 0, 0, 0, 0, 0, 0, 0, 0, 0, 0, 0, 0,\n",
       "        0, 0, 0, 0, 0, 0, 0, 0, 0, 0, 0, 0, 0, 0, 0, 0, 0, 0, 0, 0, 0]])"
      ]
     },
     "execution_count": 95,
     "metadata": {},
     "output_type": "execute_result"
    }
   ],
   "source": [
    "X[0].toarray()"
   ]
  },
  {
   "cell_type": "markdown",
   "metadata": {},
   "source": [
    "## TF-IDF"
   ]
  },
  {
   "cell_type": "code",
   "execution_count": 108,
   "metadata": {},
   "outputs": [],
   "source": [
    "from sklearn.feature_extraction.text import TfidfVectorizer\n",
    "cv=TfidfVectorizer(ngram_range=(2,3), max_features=10)\n",
    "X=cv.fit_transform(corpus)"
   ]
  },
  {
   "cell_type": "code",
   "execution_count": 109,
   "metadata": {},
   "outputs": [
    {
     "data": {
      "text/plain": [
       "'diwali also known deepavali row lamp one fervently celebrated festival india'"
      ]
     },
     "execution_count": 109,
     "metadata": {},
     "output_type": "execute_result"
    }
   ],
   "source": [
    "corpus[0]"
   ]
  },
  {
   "cell_type": "code",
   "execution_count": 111,
   "metadata": {},
   "outputs": [
    {
     "data": {
      "text/plain": [
       "{'festival light': np.int64(4),\n",
       " 'bursting cracker': np.int64(1),\n",
       " 'cracker firework': np.int64(3),\n",
       " 'lighting earthen': np.int64(8),\n",
       " 'lighting earthen oil': np.int64(9),\n",
       " 'light different colour': np.int64(5),\n",
       " 'light transform': np.int64(6),\n",
       " 'across india': np.int64(0),\n",
       " 'light transform street': np.int64(7),\n",
       " 'celebrate occasion': np.int64(2)}"
      ]
     },
     "execution_count": 111,
     "metadata": {},
     "output_type": "execute_result"
    }
   ],
   "source": [
    "cv.vocabulary_"
   ]
  },
  {
   "cell_type": "code",
   "execution_count": 113,
   "metadata": {},
   "outputs": [
    {
     "data": {
      "text/plain": [
       "array([[0.        , 0.57735027, 0.        , 0.57735027, 0.57735027,\n",
       "        0.        , 0.        , 0.        , 0.        , 0.        ]])"
      ]
     },
     "execution_count": 113,
     "metadata": {},
     "output_type": "execute_result"
    }
   ],
   "source": [
    "X[1].toarray()"
   ]
  }
 ],
 "metadata": {
  "kernelspec": {
   "display_name": "Python 3",
   "language": "python",
   "name": "python3"
  },
  "language_info": {
   "codemirror_mode": {
    "name": "ipython",
    "version": 3
   },
   "file_extension": ".py",
   "mimetype": "text/x-python",
   "name": "python",
   "nbconvert_exporter": "python",
   "pygments_lexer": "ipython3",
   "version": "3.9.6"
  }
 },
 "nbformat": 4,
 "nbformat_minor": 2
}
